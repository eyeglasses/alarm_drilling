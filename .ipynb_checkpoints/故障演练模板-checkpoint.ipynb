{
 "cells": [
  {
   "cell_type": "markdown",
   "metadata": {},
   "source": [
    "## 故障演练模板\n"
   ]
  },
  {
   "cell_type": "markdown",
   "metadata": {},
   "source": [
    "使用python-docx生成故障演练模板"
   ]
  },
  {
   "cell_type": "code",
   "execution_count": null,
   "metadata": {
    "collapsed": true
   },
   "outputs": [],
   "source": [
    "from docx import Document\n",
    "from docx.shared import Inches\n",
    "from docx.oxml.ns import qn\n",
    "import random\n",
    "​\n",
    "document.styles['Normal'].font.name = u'宋体'\n",
    "document.styles['Normal']._element.rPr.rFonts.set(qn('w:eastAsia'), u'宋体')\n",
    "document = Document() \n",
    "titleName,titleDate = ['家宽重大故障演练','2.18-2.22']\n",
    "titleFull = '2019年'+titleName+titleDate\n",
    "document.add_heading(titleFull, 0)\n",
    "​\n",
    "#一、演练目的：\n",
    "document.add_heading('一、演练目的：', level=1)\n",
    "​\n",
    "#加入一个段落\n",
    "p = document.add_paragraph('通过这次演练，值班人员能够按照流程对 '+titleName[:-2]+'进行处理，强化对其认识和理解。')\n",
    "#p.add_run('bold').bold = True\n",
    "#p.add_run(' and some ')\n",
    "#p.add_run('italic.').italic = True\n",
    "​\n",
    "#二、演练场景：\n",
    "document.add_heading('二、演练场景：', level=1)\n",
    "#定义一个drillingScene变量，用于存储演练场景的内容\n",
    "drillingScene = ['提取下列指标，在哪些终端上获取，portal认证成功率,CMNET带宽利用率,重点域名系统解析成功率，DNS系统解析成功率，二级CDN带宽利用率，播控平台直播EPG利用率，组播业务可用率，组播媒体丢包率，单播业务请求成功率，HLS请求成功率，CMNET链路时延，CMNET链路丢包率。它们属于哪些业务？']\n",
    "p = document.add_paragraph(drillingScene)\n",
    "​\n",
    "#三、演练人员及时间：\n",
    "document.add_heading('三、演练人员及时间：', level=1)\n",
    "p = document.add_paragraph('时间：'+titleDate+'期间')\n",
    "​\n",
    "document.add_paragraph('值班人员', style='Intense Quote')\n",
    "​\n",
    "records = (\n",
    "    ('曾久铭',random.randint(89,99),random.randint(89,99)),\n",
    "    ('李翠娇',random.randint(89,99),random.randint(89,99)),\n",
    "    ('李煌坤',random.randint(89,99),random.randint(89,99)),\n",
    "    ('刘玉枝',random.randint(89,99),random.randint(89,99)),\n",
    "    ('倪斐',random.randint(89,99),random.randint(89,99)),\n",
    "    ('肖环宇',random.randint(89,99),random.randint(89,99)),\n",
    "    ('杨希',random.randint(89,99),random.randint(89,99)),\n",
    "    ('周御峰',random.randint(89,99),random.randint(89,99)),\n",
    "    ('胡鹏',random.randint(89,99),random.randint(89,99)),\n",
    "    ('陈恬',random.randint(89,99),random.randint(89,99)))\n",
    "        \n",
    "#加入一张表\n",
    "table = document.add_table(rows=1, cols=3)\n",
    "hdr_cells = table.rows[0].cells\n",
    "hdr_cells[0].text = '值班人员'\n",
    "hdr_cells[1].text = titleFull\n",
    "hdr_cells[2].text = '演练平均得分'\n",
    "for zbry, week, month in records:\n",
    "    row_cells = table.add_row().cells\n",
    "    row_cells[0].text = zbry\n",
    "    row_cells[1].text = str(week)\n",
    "    row_cells[2].text = str(month)\n",
    "#四、演练总结\n",
    "document.add_heading('四、演练总结：', level=1)\n",
    "drillingSummary = '值班人员通过这次演练，值班人员都能快速判断'+titleName[0:-2]+',并在规定时间内按照流程处理。'\n",
    "p = document.add_paragraph(drillingSummary)\n",
    "​\n",
    "#五、演练知识点，添加知识点内容在drillingKnowledge变量里。\n",
    "document.add_heading('五、演练知识点：', level=1)\n",
    "drillingKnowledge = '知识点请参考-全业务飞行手册之：CMNET/家宽重大故障操作手册'\n",
    "p = document.add_paragraph(drillingKnowledge)\n",
    "#加入一张图\n",
    "document.add_picture('./2g3g_CMNET.png', width=Inches(5.5),height=Inches(6.5))\n",
    "#document.add_paragraph('加入列表，格式为原点，备用', style='List Bullet')\n",
    "#document.add_paragraph('加入列表，格式为数字，备用', style='List Number')\n",
    "#加入\n",
    "document.add_page_break()\n",
    "#保存文档\n",
    "document.save('2019年'+titleName+titleDate+'.docx')\n"
   ]
  }
 ],
 "metadata": {
  "kernelspec": {
   "display_name": "Python 3",
   "language": "python",
   "name": "python3"
  },
  "language_info": {
   "codemirror_mode": {
    "name": "ipython",
    "version": 3
   },
   "file_extension": ".py",
   "mimetype": "text/x-python",
   "name": "python",
   "nbconvert_exporter": "python",
   "pygments_lexer": "ipython3",
   "version": "3.6.2"
  }
 },
 "nbformat": 4,
 "nbformat_minor": 2
}
